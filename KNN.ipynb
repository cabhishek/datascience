{
 "metadata": {
  "name": "",
  "signature": "sha256:18cdc78b2596eefe2d537311376b570ec5dfef92e2b921f58caf12f6f6942d3b"
 },
 "nbformat": 3,
 "nbformat_minor": 0,
 "worksheets": [
  {
   "cells": [
    {
     "cell_type": "code",
     "collapsed": false,
     "input": [
      "from sklearn.datasets import load_iris\n",
      "iris = load_iris()\n"
     ],
     "language": "python",
     "metadata": {},
     "outputs": []
    },
    {
     "cell_type": "code",
     "collapsed": false,
     "input": [
      "from sklearn import neighbors\n",
      "\n",
      "X, y = iris.data, iris.target\n",
      "\n",
      "knn = neighbors.KNeighborsClassifier(n_neighbors=1)\n",
      "\n",
      "knn.fit(X, y)\n",
      "\n",
      "print iris.target_names[knn.predict([[3, 5, 4, 2]])]"
     ],
     "language": "python",
     "metadata": {},
     "outputs": [
      {
       "output_type": "stream",
       "stream": "stdout",
       "text": [
        "['virginica']\n"
       ]
      }
     ],
     "prompt_number": 26
    }
   ],
   "metadata": {}
  }
 ]
}