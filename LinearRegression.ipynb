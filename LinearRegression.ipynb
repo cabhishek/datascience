{
 "metadata": {
  "name": "",
  "signature": "sha256:05fc3125a3eb59ed200929ff01f597873d8b6ac5e7ecf5472127229d9b9c8900"
 },
 "nbformat": 3,
 "nbformat_minor": 0,
 "worksheets": [
  {
   "cells": [
    {
     "cell_type": "code",
     "collapsed": false,
     "input": [
      "import pandas as pd\n",
      "from sklearn import datasets, linear_model\n",
      "from sklearn.feature_extraction.text import TfidfVectorizer, CountVectorizer \n",
      "import nltk"
     ],
     "language": "python",
     "metadata": {},
     "outputs": [],
     "prompt_number": 2
    },
    {
     "cell_type": "code",
     "collapsed": false,
     "input": [
      "train = pd.read_csv(\"https://raw.githubusercontent.com/ajschumacher/gadsdata/master/salary/train.csv\")"
     ],
     "language": "python",
     "metadata": {},
     "outputs": [],
     "prompt_number": 4
    },
    {
     "cell_type": "code",
     "collapsed": false,
     "input": [
      "titles = list(set(train.Title.dropna()))[:2]\n",
      "\n",
      "cv = CountVectorizer()\n",
      "\n",
      "tokenize = cv.build_tokenizer()\n",
      "tv = TfidfVectorizer()\n",
      "\n",
      "for title in titles:\n",
      "    print tokenize(title)\n",
      "    print tv.fit_transform(tokenize(title))\n",
      "\n",
      "\n",
      "\n"
     ],
     "language": "python",
     "metadata": {},
     "outputs": [
      {
       "output_type": "stream",
       "stream": "stdout",
       "text": [
        "['Senior', 'Software', 'Engineer', 'Azure', 'NET', 'Web', 'developer']\n",
        "  (0, 4)\t1.0\n",
        "  (1, 5)\t1.0\n",
        "  (2, 2)\t1.0\n",
        "  (3, 0)\t1.0\n",
        "  (4, 3)\t1.0\n",
        "  (5, 6)\t1.0\n",
        "  (6, 1)\t1.0\n",
        "['Primary', 'Supply', 'Teacher']\n",
        "  (0, 0)\t1.0\n",
        "  (1, 1)\t1.0\n",
        "  (2, 2)\t1.0\n"
       ]
      }
     ],
     "prompt_number": 31
    }
   ],
   "metadata": {}
  }
 ]
}